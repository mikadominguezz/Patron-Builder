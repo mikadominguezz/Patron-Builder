{
 "cells": [
  {
   "cell_type": "code",
   "execution_count": null,
   "id": "1bd6b84b",
   "metadata": {},
   "outputs": [],
   "source": [
    "public interface ITravelPlanBuilder\n",
    "{\n",
    "    void SetFlight(string flight);\n",
    "    void SetHotel(string hotel);\n",
    "    void SetCarRental(string carRental);\n",
    "    void SetActivities(string[] activities);\n",
    "    void SetRestaurantReservations(string[] restaurantreservations);\n",
    "}"
   ]
  },
  {
   "cell_type": "code",
   "execution_count": 6,
   "id": "37a49db0",
   "metadata": {},
   "outputs": [],
   "source": [
    "public class TravelPlan\n",
    "{\n",
    "    public string Flight { get; set; }\n",
    "    public string Hotel { get; set; }\n",
    "    public string CarRental { get; set; }\n",
    "    public string[] Activities { get; set; }\n",
    "    public string[] RestaurantReservations { get; set; }\n",
    "\n",
    "    public override string ToString()\n",
    "    {\n",
    "        return $\"Travel Plan with the flight {Flight} and staying in the hotel {Hotel}, ...\";\n",
    "    }\n",
    "}"
   ]
  },
  {
   "cell_type": "code",
   "execution_count": 10,
   "id": "f8a26f0f",
   "metadata": {},
   "outputs": [],
   "source": [
    "public class TravelPlanBuilder : ITravelPlanBuilder\n",
    "{\n",
    "    private TravelPlan travelPlan = new();\n",
    "\n",
    "    public TravelPlanBuilder()\n",
    "    {\n",
    "        this.Reset();\n",
    "    }\n",
    "\n",
    "    public void Reset()\n",
    "    {\n",
    "        this.travelPlan = new TravelPlan();\n",
    "    }\n",
    "\n",
    "    public void SetFlight(string flight)\n",
    "    {\n",
    "        travelPlan.Flight = flight;\n",
    "    }\n",
    "\n",
    "    public void SetHotel(string hotel)\n",
    "    {\n",
    "        travelPlan.Hotel = hotel;\n",
    "    }\n",
    "    \n",
    "    public void SetCarRental(string carRental)\n",
    "    {\n",
    "        travelPlan.CarRental = carRental;\n",
    "    }\n",
    "\n",
    "    public void SetActivities(string[] activities)\n",
    "    {\n",
    "        travelPlan.Activities = activities;\n",
    "    }\n",
    "\n",
    "    public void SetRestaurantReservations(string[] restaurantReservations)\n",
    "    {\n",
    "        travelPlan.RestaurantReservations = restaurantReservations;\n",
    "    }\n",
    "\n",
    "    public TravelPlan GetTravelPlan()\n",
    "    {\n",
    "        TravelPlan result = this.travelPlan;\n",
    "        this.Reset();\n",
    "        return result;\n",
    "    }\n",
    "}"
   ]
  },
  {
   "cell_type": "code",
   "execution_count": null,
   "id": "403f9225",
   "metadata": {},
   "outputs": [],
   "source": [
    "public class TravelPlanDirector\n",
    "{\n",
    "\n",
    "}"
   ]
  }
 ],
 "metadata": {
  "kernelspec": {
   "display_name": ".NET (C#)",
   "language": "C#",
   "name": ".net-csharp"
  },
  "language_info": {
   "name": "polyglot-notebook"
  },
  "polyglot_notebook": {
   "kernelInfo": {
    "defaultKernelName": "csharp",
    "items": [
     {
      "aliases": [],
      "name": "csharp"
     }
    ]
   }
  }
 },
 "nbformat": 4,
 "nbformat_minor": 5
}
