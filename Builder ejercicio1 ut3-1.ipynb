{
 "cells": [
  {
   "cell_type": "code",
   "execution_count": 1,
   "id": "60f61561",
   "metadata": {
    "language_info": {
     "name": "polyglot-notebook"
    },
    "polyglot_notebook": {
     "kernelName": "csharp"
    }
   },
   "outputs": [],
   "source": [
    "public class Sandwich\n",
    "{\n",
    "    public string Bread { get; set; }\n",
    "    public string Cheese { get; set; }\n",
    "    public string Meat { get; set; }\n",
    "    public string Vegetables { get; set; }\n",
    "    public string Condiments { get; set; }\n",
    "\n",
    "    public override string ToString()\n",
    "    {\n",
    "        string desc = $\"Sandwich with {Bread} bread\";\n",
    "        if (!string.IsNullOrEmpty(Cheese)) desc += $\", {Cheese} cheese\";\n",
    "        if (!string.IsNullOrEmpty(Meat)) desc += $\", {Meat} meat\";\n",
    "        if (!string.IsNullOrEmpty(Vegetables)) desc += $\", {Vegetables} vegetables\";\n",
    "        if (!string.IsNullOrEmpty(Condiments)) desc += $\", and {Condiments} condiments\";\n",
    "        desc += \".\";\n",
    "        return desc;\n",
    "    }\n",
    "}"
   ]
  },
  {
   "cell_type": "code",
   "execution_count": 2,
   "id": "47ccde72",
   "metadata": {
    "language_info": {
     "name": "polyglot-notebook"
    },
    "polyglot_notebook": {
     "kernelName": "csharp"
    }
   },
   "outputs": [],
   "source": [
    "public interface ISandwichBuilder\n",
    "{\n",
    "    void SetBread();\n",
    "    void SetCheese();\n",
    "    void SetMeat();\n",
    "    void SetVegetables();\n",
    "    void SetCondiments();\n",
    "    Sandwich GetSandwich();\n",
    "}"
   ]
  },
  {
   "cell_type": "code",
   "execution_count": 3,
   "metadata": {
    "language_info": {
     "name": "polyglot-notebook"
    },
    "polyglot_notebook": {
     "kernelName": "csharp"
    }
   },
   "outputs": [],
   "source": [
    "public class ClassicSandwichBuilder : ISandwichBuilder\n",
    "{\n",
    "    private Sandwich sandwich = new();\n",
    "\n",
    "    public void SetBread()\n",
    "    { \n",
    "        sandwich.Bread = \"white\";\n",
    "    }\n",
    "    public void SetCheese()\n",
    "    {\n",
    "        sandwich.Cheese = \"swiss\";\n",
    "    }\n",
    "    public void SetMeat()\n",
    "    { \n",
    "        sandwich.Meat = \"ham\"; \n",
    "    }\n",
    "    public void SetVegetables()\n",
    "    {\n",
    "        sandwich.Vegetables = \"lettuce\"; \n",
    "    }\n",
    "    public void SetCondiments()\n",
    "    { \n",
    "        sandwich.Condiments = \"mustard\";\n",
    "    }\n",
    "\n",
    "    public Sandwich GetSandwich()\n",
    "    {\n",
    "        return sandwich; \n",
    "    }\n",
    "}"
   ]
  },
  {
   "cell_type": "code",
   "execution_count": 4,
   "id": "7df0b5f0",
   "metadata": {
    "language_info": {
     "name": "polyglot-notebook"
    },
    "polyglot_notebook": {
     "kernelName": "csharp"
    }
   },
   "outputs": [],
   "source": [
    "public class SandwichDirector\n",
    "{\n",
    "    public void MakeSandwich(ISandwichBuilder builder)\n",
    "    {\n",
    "        builder.SetBread();\n",
    "        builder.SetMeat();\n",
    "        builder.SetVegetables();\n",
    "        builder.SetCondiments();\n",
    "    }\n",
    "}"
   ]
  },
  {
   "cell_type": "code",
   "execution_count": 5,
   "id": "add4f7f8",
   "metadata": {
    "language_info": {
     "name": "polyglot-notebook"
    },
    "polyglot_notebook": {
     "kernelName": "csharp"
    }
   },
   "outputs": [
    {
     "name": "stdout",
     "output_type": "stream",
     "text": [
      "Sandwich with white bread, ham meat, lettuce vegetables, and mustard condiments.\n"
     ]
    }
   ],
   "source": [
    "var director = new SandwichDirector();\n",
    "ISandwichBuilder classicBuilder = new ClassicSandwichBuilder();\n",
    "\n",
    "director.MakeSandwich(classicBuilder);\n",
    "\n",
    "Sandwich classic = classicBuilder.GetSandwich();\n",
    "Console.WriteLine(classic); \n",
    "\n"
   ]
  }
 ],
 "metadata": {
  "kernelspec": {
   "display_name": ".NET (C#)",
   "language": "C#",
   "name": ".net-csharp"
  },
  "language_info": {
   "name": "polyglot-notebook"
  },
  "polyglot_notebook": {
   "kernelInfo": {
    "defaultKernelName": "csharp",
    "items": [
     {
      "aliases": [],
      "name": "csharp"
     }
    ]
   }
  }
 },
 "nbformat": 4,
 "nbformat_minor": 5
}
